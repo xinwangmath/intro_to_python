{
 "cells": [
  {
   "cell_type": "markdown",
   "metadata": {},
   "source": [
    "# Introduction to Python and some techniques to make it faster"
   ]
  },
  {
   "cell_type": "markdown",
   "metadata": {},
   "source": [
    "## 1. Basic Python\n",
    "## 2. Numpy and Matplotlib\n",
    "## 3. Make Python faster with Numba and Cython"
   ]
  },
  {
   "cell_type": "markdown",
   "metadata": {},
   "source": [
    "Some useful links:\n",
    "[Python](https://www.python.org/),\n",
    "[Anaconda](https://www.anaconda.com/what-is-anaconda/),\n",
    "[Numerical Computation: Numpy & Scipy](https://docs.scipy.org/doc/),\n",
    "[Plot: Matplotlib](https://matplotlib.org/),\n",
    "[Image Processing: PIL & Pillow](https://pillow.readthedocs.io/en/latest/),\n",
    "[Convex Optimization: cvxopt & cvxpy](http://www.cvxpy.org/en/latest/),\n",
    "[Graph: networkx](https://networkx.github.io/),\n",
    "[Machine Learning: scikit-learn](http://scikit-learn.org/stable/),\n",
    "[Deep Learning: PyTorch](http://pytorch.org/)"
   ]
  },
  {
   "cell_type": "markdown",
   "metadata": {},
   "source": [
    "## 1. Basic Python\n",
    "Python is: \n",
    "\n",
    "1. Interpreted language: not compiled. The interpreter translates codes into machine codes when executed;\n",
    "2. Not as efficient as C++, Java, etc (10 - 400 time slower); \n",
    "3. Faster (easier) to code;\n",
    "4. Has a lot of packages"
   ]
  },
  {
   "cell_type": "code",
   "execution_count": 1,
   "metadata": {
    "collapsed": true
   },
   "outputs": [],
   "source": [
    "# There is Python 2 and Python 3, and they differ in some places.\n",
    "from __future__ import print_function\n",
    "from __future__ import division\n",
    "from six.moves import range"
   ]
  },
  {
   "cell_type": "code",
   "execution_count": 2,
   "metadata": {
    "collapsed": false
   },
   "outputs": [
    {
     "name": "stdout",
     "output_type": "stream",
     "text": [
      "Hello World!\n"
     ]
    }
   ],
   "source": [
    "# Hello World\n",
    "print('Hello World!')"
   ]
  },
  {
   "cell_type": "code",
   "execution_count": 3,
   "metadata": {
    "collapsed": false
   },
   "outputs": [
    {
     "name": "stdout",
     "output_type": "stream",
     "text": [
      "data | type\n",
      "True | <type 'bool'>\n",
      "1 | <type 'int'>\n",
      "0.5 | <type 'float'>\n",
      "Hello World | <type 'str'>\n"
     ]
    }
   ],
   "source": [
    "# Built-in data types\n",
    "flag = True # bool\n",
    "a = 1 # int\n",
    "b = 0.5 # float\n",
    "c = 'Hello World' # str\n",
    "print('data | type')\n",
    "print(flag, '|', type(flag))\n",
    "print(a, '|', type(a))\n",
    "print(b, '|', type(b))\n",
    "print(c, '|', type(c))"
   ]
  },
  {
   "cell_type": "code",
   "execution_count": 4,
   "metadata": {
    "collapsed": false
   },
   "outputs": [
    {
     "name": "stdout",
     "output_type": "stream",
     "text": [
      "[1, 2, 3, 1, 0.5, 'Hello World']\n",
      "(1, 2, 3, 1, 0.5, 'Hello World')\n",
      "set([0.5, 1, 2, 3, 'Hello World'])\n",
      "{'a': 1, 'c': 3, 'b': 2}\n"
     ]
    }
   ],
   "source": [
    "# Built-in containers\n",
    "lst = [1, 2, 3, a, b, c]  # list: lst[0], lst[1], lst[-1], lst.append(), lst.pop()\n",
    "tpl = (1, 2, 3, a, b, c)  # tuple: immutable\n",
    "st = set(lst)             # set: 1 in set --> True\n",
    "mdict = {'a':1, 'b':2, 'c':3}  # mdict['a'] --> 1\n",
    "print(lst)\n",
    "print(tpl)\n",
    "print(st)\n",
    "print(mdict)"
   ]
  },
  {
   "cell_type": "code",
   "execution_count": 5,
   "metadata": {
    "collapsed": false
   },
   "outputs": [
    {
     "name": "stdout",
     "output_type": "stream",
     "text": [
      "1\n",
      "0\n",
      "1\n",
      "2\n",
      "0\n",
      "1\n",
      "2\n"
     ]
    }
   ],
   "source": [
    "# Control flow\n",
    "# conditional\n",
    "a = 1\n",
    "if a > 0:\n",
    "    print(a)\n",
    "elif a < 0:\n",
    "    print(-1 * a)\n",
    "else:\n",
    "    print(0)\n",
    "# loops\n",
    "for i in range(3):\n",
    "    print(i)\n",
    "i = 0\n",
    "while i < 3:\n",
    "    print(i)\n",
    "    i += 1"
   ]
  },
  {
   "cell_type": "code",
   "execution_count": 6,
   "metadata": {
    "collapsed": false
   },
   "outputs": [
    {
     "name": "stdout",
     "output_type": "stream",
     "text": [
      "5.0\n",
      "7\n"
     ]
    }
   ],
   "source": [
    "# function\n",
    "from math import sqrt\n",
    "def vector_norm(v, norm='l2'):\n",
    "    result = 0\n",
    "    if norm == 'l2':\n",
    "        for i in range(len(v)):\n",
    "            result += v[i]**2\n",
    "        result = sqrt(result)\n",
    "    elif norm == 'l1':\n",
    "        for i in range(len(v)):\n",
    "            result += abs(v[i])\n",
    "    else:\n",
    "        for i in range(len(v)):\n",
    "            result = max(abs(v[i]), result)\n",
    "    return result\n",
    "# call the function\n",
    "v = [0, -3, 4]\n",
    "print(vector_norm(v))\n",
    "print(vector_norm(v, 'l1'))"
   ]
  },
  {
   "cell_type": "markdown",
   "metadata": {},
   "source": [
    "## 2. Numpy and Matplotlib\n",
    "Numpy library implements n-dimensional arrays (and operations on it) and many linear algebra operations (solve linear systems, find eigenvalues, SVD decompostion, least square, etc). Matplotlib is a library for making plots, similar to plot functions in Matlab."
   ]
  },
  {
   "cell_type": "code",
   "execution_count": 7,
   "metadata": {
    "collapsed": true
   },
   "outputs": [],
   "source": [
    "import numpy as np"
   ]
  },
  {
   "cell_type": "code",
   "execution_count": 8,
   "metadata": {
    "collapsed": false
   },
   "outputs": [
    {
     "name": "stdout",
     "output_type": "stream",
     "text": [
      "[1, 2, 3]\n",
      "[1 2 3]\n",
      "int64\n",
      "[ 1.  2.  3.]\n",
      "float64\n"
     ]
    }
   ],
   "source": [
    "lst = [1, 2, 3]\n",
    "a = np.array(lst)\n",
    "b = np.array(lst, dtype=np.float64)\n",
    "print(lst)\n",
    "print(a)\n",
    "print(a.dtype)\n",
    "print(b)\n",
    "print(b.dtype)"
   ]
  },
  {
   "cell_type": "code",
   "execution_count": 9,
   "metadata": {
    "collapsed": false
   },
   "outputs": [
    {
     "name": "stdout",
     "output_type": "stream",
     "text": [
      "[0 1 2 3 4 5 6 7 8 9]\n",
      "[ 0.   0.1  0.2  0.3  0.4  0.5  0.6  0.7  0.8  0.9  1. ]\n",
      "[[ 1.  0.]\n",
      " [ 0.  1.]]\n",
      "(2, 2)\n",
      "[[ 0.  0.  0.]\n",
      " [ 0.  0.  0.]]\n",
      "[[-0.87099955  0.02771682  0.20970556]\n",
      " [ 1.64286845  0.11097339  0.73760906]\n",
      " [ 1.71937588  0.16182725  0.95788579]]\n"
     ]
    }
   ],
   "source": [
    "# Similar to Matlab, numpy has functions to create array\n",
    "a = np.arange(10)\n",
    "print(a)\n",
    "\n",
    "x = np.linspace(0, 1, 11)\n",
    "print(x)\n",
    "\n",
    "A = np.eye(2)\n",
    "print(A)\n",
    "print(A.shape)\n",
    "\n",
    "M = np.zeros((2, 3))\n",
    "print(M)\n",
    "\n",
    "M = np.random.randn(3, 3)\n",
    "print(M)"
   ]
  },
  {
   "cell_type": "code",
   "execution_count": 10,
   "metadata": {
    "collapsed": false
   },
   "outputs": [
    {
     "name": "stdout",
     "output_type": "stream",
     "text": [
      "[0 1]\n",
      "[0 2 4 6 8]\n",
      "[1 3 5 7 9]\n",
      "[9 8 7 6 5 4 3 2 1 0]\n"
     ]
    }
   ],
   "source": [
    "# Slicing\n",
    "print(a[0:2])\n",
    "print(a[::2])\n",
    "print(a[1::2])\n",
    "print(a[::-1])"
   ]
  },
  {
   "cell_type": "code",
   "execution_count": 11,
   "metadata": {
    "collapsed": false
   },
   "outputs": [
    {
     "name": "stdout",
     "output_type": "stream",
     "text": [
      "[  0.09281968  41.76558461  -5.13464291]\n",
      "[ -4.44089210e-16   1.00000000e+00   2.00000000e+00]\n",
      "6.28036983474e-16\n"
     ]
    }
   ],
   "source": [
    "b = np.arange(3)\n",
    "# solve A x = b\n",
    "x = np.linalg.solve(M, b)\n",
    "print(x)\n",
    "print(np.dot(M, x))\n",
    "print(np.linalg.norm(np.dot(M, x) - b))"
   ]
  },
  {
   "cell_type": "code",
   "execution_count": 12,
   "metadata": {
    "collapsed": true
   },
   "outputs": [],
   "source": [
    "# Example\n",
    "def jacobi(A, b, x_0, tol=1e-3, maxSteps=100):\n",
    "    \"\"\"\n",
    "    Jacobi iteration solver.\n",
    "\n",
    "    @args\n",
    "    A: coefficient matrix, numpy ndarray of two dimensions\n",
    "    b: right hand side vector, numpy ndarray of one dimension\n",
    "    x_0: initial value vector, numpy ndarray of one dimension\n",
    "    tol: tolerance, iteration stops when the residual is smaller than tol, float\n",
    "    maxSteps: maximum number of steps, int\n",
    "\n",
    "    @return\n",
    "    solution at the end of the iteration, numpy ndarray of one dimension\n",
    "    \"\"\"\n",
    "    m, n = A.shape\n",
    "    step = 0\n",
    "    residual_magnitude = np.linalg.norm(b - np.dot(A, x_0))\n",
    "\n",
    "    x = np.copy(x_0)\n",
    "    x_temp = np.copy(x)\n",
    "\n",
    "    while residual_magnitude > tol and step < maxSteps:\n",
    "        x_temp = b - np.dot((A - np.diag(np.diag(A))), x)\n",
    "        x_temp /= np.diag(A)\n",
    "        x = x_temp\n",
    "        residual_magnitude = np.linalg.norm(b - np.dot(A, x))\n",
    "        step += 1\n",
    "\n",
    "    return x\n",
    "\n",
    "def gaussSeidel(A, b, x_0, tol=1e-3, maxSteps=100):\n",
    "    \"\"\"\n",
    "    Gauss-Seidel iteration solver.\n",
    "\n",
    "    @args\n",
    "    A: coefficient matrix, numpy ndarray of two dimensions\n",
    "    b: right hand side vector, numpy ndarray of one dimension\n",
    "    x_0: initial value vector, numpy ndarray of one dimension\n",
    "    tol: tolerance, iteration stops when the residual is smaller than tol, float\n",
    "    maxSteps: maximum number of steps, int\n",
    "\n",
    "    @return\n",
    "    solution at the end of the iteration, numpy ndarray of one dimension\n",
    "    \"\"\"\n",
    "    m, n = A.shape\n",
    "    step = 0\n",
    "    residual_magnitude = np.linalg.norm(b - np.dot(A, x_0))\n",
    "\n",
    "    x = np.copy(x_0)\n",
    "\n",
    "    while residual_magnitude > tol and step < maxSteps:\n",
    "        for i in range(n):\n",
    "            temp = b[i] - np.dot(A[i, :], x) + A[i, i] * x[i]\n",
    "            x[i] = temp/A[i, i]\n",
    "        residual_magnitude = np.linalg.norm(b - np.dot(A, x))\n",
    "        step += 1\n",
    "    \n",
    "    return x\n",
    "\n",
    "\n",
    "def sor(A, b, x_0, w=1, tol=1e-3, maxSteps=100):\n",
    "    \"\"\"\n",
    "    Succesive Over Relaxation iteration solver.\n",
    "\n",
    "    @args\n",
    "    A: coefficient matrix, numpy ndarray of two dimensions\n",
    "    b: right hand side vector, numpy ndarray of one dimension\n",
    "    x_0: initial value vector, numpy ndarray of one dimension\n",
    "    w: over relaxation coefficient, 1 <= w < 2, float\n",
    "    tol: tolerance, iteration stops when the residual is smaller than tol, float\n",
    "    maxSteps: maximum number of steps, int\n",
    "\n",
    "    @return\n",
    "    solution at the end of the iteration, numpy ndarray of one dimension\n",
    "    \"\"\"\n",
    "    m, n = A.shape\n",
    "    step = 0\n",
    "    residual_magnitude = np.linalg.norm(b - np.dot(A, x_0))\n",
    "\n",
    "    x = np.copy(x_0)\n",
    "\n",
    "    while residual_magnitude > tol and step < maxSteps:\n",
    "        for i in range(n):\n",
    "            temp = b[i] - np.dot(A[i, :], x) + A[i, i] * x[i]\n",
    "            x[i] *= (1 - w)\n",
    "            x[i] += w * (temp/A[i, i])\n",
    "        residual_magnitude = np.linalg.norm(b - np.dot(A, x))\n",
    "        step += 1\n",
    "    \n",
    "    return x"
   ]
  },
  {
   "cell_type": "code",
   "execution_count": 13,
   "metadata": {
    "collapsed": false
   },
   "outputs": [
    {
     "name": "stdout",
     "output_type": "stream",
     "text": [
      "[[ 1.      0.      0.     ...,  0.      0.      0.    ]\n",
      " [-1.      2.0004 -1.     ...,  0.      0.      0.    ]\n",
      " [ 0.     -1.      2.0004 ...,  0.      0.      0.    ]\n",
      " ..., \n",
      " [ 0.      0.      0.     ...,  2.0004 -1.      0.    ]\n",
      " [ 0.      0.      0.     ..., -1.      2.0004 -1.    ]\n",
      " [ 0.      0.      0.     ...,  0.      0.      1.    ]]\n"
     ]
    }
   ],
   "source": [
    "n = 100\n",
    "A = np.eye(n+1)\n",
    "for i in range(1, n):\n",
    "    A[i, i-1] = -1\n",
    "    A[i, i+1] = -1\n",
    "    A[i, i] = 2 + 4.0 * (1/n)**2\n",
    "b = np.zeros((n+1,))\n",
    "b[0] = -1\n",
    "b[-1] = 2\n",
    "print(A)\n",
    "#print(b)"
   ]
  },
  {
   "cell_type": "code",
   "execution_count": 14,
   "metadata": {
    "collapsed": false
   },
   "outputs": [],
   "source": [
    "x_0 = np.copy(b)\n",
    "x_direct = np.linalg.solve(A, b)\n",
    "x_jacobi = jacobi(A, b, x_0, tol=1e-12, maxSteps=300)\n",
    "x_gs = gaussSeidel(A, b, x_0, tol=1e-12, maxSteps=300)\n",
    "x_sor = sor(A, b, x_0, w=1.9375, tol=1e-12, maxSteps=300)"
   ]
  },
  {
   "cell_type": "code",
   "execution_count": 15,
   "metadata": {
    "collapsed": false
   },
   "outputs": [],
   "source": [
    "import matplotlib.pyplot as plt\n",
    "%matplotlib inline\n",
    "plt.style.use('ggplot')"
   ]
  },
  {
   "cell_type": "code",
   "execution_count": 16,
   "metadata": {
    "collapsed": false
   },
   "outputs": [
    {
     "data": {
      "text/plain": [
       "<matplotlib.legend.Legend at 0x7f0d965f5650>"
      ]
     },
     "execution_count": 16,
     "metadata": {},
     "output_type": "execute_result"
    },
    {
     "data": {
      "image/png": "[encoded data removed]",
      "text/plain": [
       "<matplotlib.figure.Figure at 0x7f0da4050150>"
      ]
     },
     "metadata": {},
     "output_type": "display_data"
    }
   ],
   "source": [
    "x = np.linspace(0, 1, 101)\n",
    "plt.plot(x, x_direct, '-ok', label='direct')\n",
    "plt.plot(x, x_jacobi, '-*b', label='Jacobi')\n",
    "plt.plot(x, x_gs, '-^m', label='G-S')\n",
    "plt.plot(x, x_sor, '-sr', label='SOR')\n",
    "plt.legend(loc='best')"
   ]
  },
  {
   "cell_type": "markdown",
   "metadata": {},
   "source": [
    "## 3. Make Python faster with Numba and Cython\n",
    "Numba is a library to make the code faster. It uses Just-In-Time compilation technology to compile Python functions and make it faster. When a function is called, Numba analyzes and figure out the type of the function's arguments, and make a compiled version of the function. Next time when the function is called (with the same argument types), this compiled version is used, saving the work of the Python interpreter and making the execution faster."
   ]
  },
  {
   "cell_type": "code",
   "execution_count": 17,
   "metadata": {
    "collapsed": true
   },
   "outputs": [],
   "source": [
    "import numba as nb\n",
    "# Example\n",
    "@nb.jit\n",
    "def jacobi(A, b, x_0, tol=1e-3, maxSteps=100):\n",
    "    \"\"\"\n",
    "    Jacobi iteration solver.\n",
    "\n",
    "    @args\n",
    "    A: coefficient matrix, numpy ndarray of two dimensions\n",
    "    b: right hand side vector, numpy ndarray of one dimension\n",
    "    x_0: initial value vector, numpy ndarray of one dimension\n",
    "    tol: tolerance, iteration stops when the residual is smaller than tol, float\n",
    "    maxSteps: maximum number of steps, int\n",
    "\n",
    "    @return\n",
    "    solution at the end of the iteration, numpy ndarray of one dimension\n",
    "    \"\"\"\n",
    "    m, n = A.shape\n",
    "    step = 0\n",
    "    residual_magnitude = np.linalg.norm(b - np.dot(A, x_0))\n",
    "\n",
    "    x = np.copy(x_0)\n",
    "    x_temp = np.copy(x)\n",
    "\n",
    "    while residual_magnitude > tol and step < maxSteps:\n",
    "        x_temp = b - np.dot((A - np.diag(np.diag(A))), x)\n",
    "        x_temp /= np.diag(A)\n",
    "        x = x_temp\n",
    "        residual_magnitude = np.linalg.norm(b - np.dot(A, x))\n",
    "        step += 1\n",
    "\n",
    "    return x\n",
    "\n",
    "@nb.jit\n",
    "def gaussSeidel(A, b, x_0, tol=1e-3, maxSteps=100):\n",
    "    \"\"\"\n",
    "    Gauss-Seidel iteration solver.\n",
    "\n",
    "    @args\n",
    "    A: coefficient matrix, numpy ndarray of two dimensions\n",
    "    b: right hand side vector, numpy ndarray of one dimension\n",
    "    x_0: initial value vector, numpy ndarray of one dimension\n",
    "    tol: tolerance, iteration stops when the residual is smaller than tol, float\n",
    "    maxSteps: maximum number of steps, int\n",
    "\n",
    "    @return\n",
    "    solution at the end of the iteration, numpy ndarray of one dimension\n",
    "    \"\"\"\n",
    "    m, n = A.shape\n",
    "    step = 0\n",
    "    residual_magnitude = np.linalg.norm(b - np.dot(A, x_0))\n",
    "\n",
    "    x = np.copy(x_0)\n",
    "\n",
    "    while residual_magnitude > tol and step < maxSteps:\n",
    "        for i in range(n):\n",
    "            temp = b[i] - np.dot(A[i, :], x) + A[i, i] * x[i]\n",
    "            x[i] = temp/A[i, i]\n",
    "        residual_magnitude = np.linalg.norm(b - np.dot(A, x))\n",
    "        step += 1\n",
    "    \n",
    "    return x\n",
    "\n",
    "@nb.jit\n",
    "def sor(A, b, x_0, w=1, tol=1e-3, maxSteps=100):\n",
    "    \"\"\"\n",
    "    Succesive Over Relaxation iteration solver.\n",
    "\n",
    "    @args\n",
    "    A: coefficient matrix, numpy ndarray of two dimensions\n",
    "    b: right hand side vector, numpy ndarray of one dimension\n",
    "    x_0: initial value vector, numpy ndarray of one dimension\n",
    "    w: over relaxation coefficient, 1 <= w < 2, float\n",
    "    tol: tolerance, iteration stops when the residual is smaller than tol, float\n",
    "    maxSteps: maximum number of steps, int\n",
    "\n",
    "    @return\n",
    "    solution at the end of the iteration, numpy ndarray of one dimension\n",
    "    \"\"\"\n",
    "    m, n = A.shape\n",
    "    step = 0\n",
    "    residual_magnitude = np.linalg.norm(b - np.dot(A, x_0))\n",
    "\n",
    "    x = np.copy(x_0)\n",
    "\n",
    "    while residual_magnitude > tol and step < maxSteps:\n",
    "        for i in range(n):\n",
    "            temp = b[i] - np.dot(A[i, :], x) + A[i, i] * x[i]\n",
    "            x[i] *= (1 - w)\n",
    "            x[i] += w * (temp/A[i, i])\n",
    "        residual_magnitude = np.linalg.norm(b - np.dot(A, x))\n",
    "        step += 1\n",
    "    \n",
    "    return x"
   ]
  },
  {
   "cell_type": "code",
   "execution_count": 18,
   "metadata": {
    "collapsed": true
   },
   "outputs": [],
   "source": [
    "x_0 = np.copy(b)\n",
    "x_direct = np.linalg.solve(A, b)\n",
    "x_jacobi = jacobi(A, b, x_0, tol=1e-12, maxSteps=300)\n",
    "x_gs = gaussSeidel(A, b, x_0, tol=1e-12, maxSteps=300)\n",
    "x_sor = sor(A, b, x_0, w=1.9375, tol=1e-12, maxSteps=300)"
   ]
  },
  {
   "cell_type": "code",
   "execution_count": 19,
   "metadata": {
    "collapsed": false
   },
   "outputs": [
    {
     "name": "stdout",
     "output_type": "stream",
     "text": [
      "10 loops, best of 3: 26.6 ms per loop\n"
     ]
    }
   ],
   "source": [
    "%timeit x_jacobi=jacobi.py_func(A, b, x_0, tol=1e-12, maxSteps=300)"
   ]
  },
  {
   "cell_type": "code",
   "execution_count": 20,
   "metadata": {
    "collapsed": false
   },
   "outputs": [
    {
     "name": "stdout",
     "output_type": "stream",
     "text": [
      "100 loops, best of 3: 13.5 ms per loop\n"
     ]
    }
   ],
   "source": [
    "%timeit x_jacobi=jacobi(A, b, x_0, tol=1e-12, maxSteps=300)"
   ]
  },
  {
   "cell_type": "code",
   "execution_count": 21,
   "metadata": {
    "collapsed": false
   },
   "outputs": [
    {
     "name": "stdout",
     "output_type": "stream",
     "text": [
      "1 loop, best of 3: 189 ms per loop\n"
     ]
    }
   ],
   "source": [
    "%timeit x_gs = gaussSeidel.py_func(A, b, x_0, tol=1e-12, maxSteps=300)"
   ]
  },
  {
   "cell_type": "code",
   "execution_count": 22,
   "metadata": {
    "collapsed": false
   },
   "outputs": [
    {
     "name": "stdout",
     "output_type": "stream",
     "text": [
      "100 loops, best of 3: 7.45 ms per loop\n"
     ]
    }
   ],
   "source": [
    "%timeit x_gs = gaussSeidel(A, b, x_0, tol=1e-12, maxSteps=300)"
   ]
  },
  {
   "cell_type": "code",
   "execution_count": 23,
   "metadata": {
    "collapsed": false
   },
   "outputs": [
    {
     "name": "stdout",
     "output_type": "stream",
     "text": [
      "1 loop, best of 3: 170 ms per loop\n"
     ]
    }
   ],
   "source": [
    "%timeit x_sor = sor.py_func(A, b, x_0, w=1.9375, tol=1e-12, maxSteps=300)"
   ]
  },
  {
   "cell_type": "code",
   "execution_count": 24,
   "metadata": {
    "collapsed": false
   },
   "outputs": [
    {
     "name": "stdout",
     "output_type": "stream",
     "text": [
      "100 loops, best of 3: 6.9 ms per loop\n"
     ]
    }
   ],
   "source": [
    "%timeit x_sor = sor(A, b, x_0, w=1.9375, tol=1e-12, maxSteps=300)"
   ]
  },
  {
   "cell_type": "markdown",
   "metadata": {},
   "source": [
    "Cython allows one to declare types for functions, variables and classes, and Cython compile these typded scripts to efficient C codes."
   ]
  },
  {
   "cell_type": "code",
   "execution_count": 25,
   "metadata": {
    "collapsed": false
   },
   "outputs": [],
   "source": [
    "%load_ext cython"
   ]
  },
  {
   "cell_type": "code",
   "execution_count": 26,
   "metadata": {
    "collapsed": false
   },
   "outputs": [],
   "source": [
    "%%cython\n",
    "import numpy as np\n",
    "cimport numpy as c_np\n",
    "\n",
    "def numpy_c():\n",
    "    cdef c_np.ndarray[double, ndim=1] c_arr\n",
    "    c_arr = np.random.rand(1000)\n",
    "    cdef int i\n",
    "    for i in range(1000):\n",
    "        c_arr[i] += 1"
   ]
  },
  {
   "cell_type": "code",
   "execution_count": 34,
   "metadata": {
    "collapsed": false
   },
   "outputs": [],
   "source": [
    "%%cython\n",
    "import numpy as np\n",
    "cimport numpy as c_np\n",
    "cimport cython\n",
    "\n",
    "# Example\n",
    "@cython.boundscheck(False)\n",
    "@cython.wraparound(False)\n",
    "@cython.cdivision(True)\n",
    "@cython.embedsignature(True)\n",
    "def jacobi_c(c_np.ndarray[double, ndim=2] A, \n",
    "             c_np.ndarray[double, ndim=1] b, \n",
    "             c_np.ndarray[double, ndim=1] x_0, \n",
    "             double tol=1e-3, \n",
    "             int maxSteps=100):\n",
    "    \"\"\"\n",
    "    Jacobi iteration solver.\n",
    "\n",
    "    @args\n",
    "    A: coefficient matrix, numpy ndarray of two dimensions\n",
    "    b: right hand side vector, numpy ndarray of one dimension\n",
    "    x_0: initial value vector, numpy ndarray of one dimension\n",
    "    tol: tolerance, iteration stops when the residual is smaller than tol, float\n",
    "    maxSteps: maximum number of steps, int\n",
    "\n",
    "    @return\n",
    "    solution at the end of the iteration, numpy ndarray of one dimension\n",
    "    \"\"\"\n",
    "    cdef int m, n, step\n",
    "    cdef double residual_magnitude\n",
    "    \n",
    "    m = A.shape[0]\n",
    "    n = A.shape[1]\n",
    "    step = 0\n",
    "    residual_magnitude = np.linalg.norm(b - np.dot(A, x_0))\n",
    "    \n",
    "    cdef c_np.ndarray[double, ndim=1] x\n",
    "    cdef c_np.ndarray[double, ndim=1] x_temp\n",
    "    \n",
    "    x = np.copy(x_0)\n",
    "    x_temp = np.copy(x)\n",
    "\n",
    "    while residual_magnitude > tol and step < maxSteps:\n",
    "        x_temp = b - np.dot((A - np.diag(np.diag(A))), x)\n",
    "        x_temp /= np.diag(A)\n",
    "        x = x_temp\n",
    "        residual_magnitude = np.linalg.norm(b - np.dot(A, x))\n",
    "        step += 1\n",
    "\n",
    "    return x\n",
    "\n",
    "@cython.boundscheck(False)\n",
    "@cython.wraparound(False)\n",
    "@cython.cdivision(True)\n",
    "@cython.embedsignature(True)\n",
    "def gaussSeidel_c(c_np.ndarray[double, ndim=2] A, \n",
    "                  c_np.ndarray[double, ndim=1] b, \n",
    "                  c_np.ndarray[double, ndim=1] x_0, \n",
    "                  double tol=1e-3, \n",
    "                  int maxSteps=100):\n",
    "    \"\"\"\n",
    "    Gauss-Seidel iteration solver.\n",
    "\n",
    "    @args\n",
    "    A: coefficient matrix, numpy ndarray of two dimensions\n",
    "    b: right hand side vector, numpy ndarray of one dimension\n",
    "    x_0: initial value vector, numpy ndarray of one dimension\n",
    "    tol: tolerance, iteration stops when the residual is smaller than tol, float\n",
    "    maxSteps: maximum number of steps, int\n",
    "\n",
    "    @return\n",
    "    solution at the end of the iteration, numpy ndarray of one dimension.\n",
    "    \"\"\"\n",
    "    cdef int m, n, step = 0\n",
    "    cdef double residual_magnitude\n",
    "    \n",
    "    m = A.shape[0]\n",
    "    n = A.shape[1]\n",
    "    step = 0\n",
    "    residual_magnitude = np.linalg.norm(b - np.dot(A, x_0))\n",
    "\n",
    "    cdef c_np.ndarray[double, ndim=1] x\n",
    "    cdef double temp\n",
    "    \n",
    "    x = np.copy(x_0)\n",
    "\n",
    "    while residual_magnitude > tol and step < maxSteps:\n",
    "        for i in range(n):\n",
    "            temp = b[i] - np.dot(A[i, :], x) + A[i, i] * x[i]\n",
    "            x[i] = temp/A[i, i]\n",
    "        residual_magnitude = np.linalg.norm(b - np.dot(A, x))\n",
    "        step += 1\n",
    "    \n",
    "    return x\n",
    "\n",
    "\n",
    "def sor_c(c_np.ndarray[double, ndim=2] A, \n",
    "          c_np.ndarray[double, ndim=1] b, \n",
    "          c_np.ndarray[double, ndim=1] x_0, \n",
    "          double w=1.0, \n",
    "          double tol=1e-3, \n",
    "          int maxSteps=100):\n",
    "    \"\"\"\n",
    "    Succesive Over Relaxation iteration solver.\n",
    "\n",
    "    @args\n",
    "    A: coefficient matrix, numpy ndarray of two dimensions\n",
    "    b: right hand side vector, numpy ndarray of one dimension\n",
    "    x_0: initial value vector, numpy ndarray of one dimension\n",
    "    w: over relaxation coefficient, 1 <= w < 2, float\n",
    "    tol: tolerance, iteration stops when the residual is smaller than tol, float\n",
    "    maxSteps: maximum number of steps, int\n",
    "\n",
    "    @return\n",
    "    solution at the end of the iteration, numpy ndarray of one dimension\n",
    "    \"\"\"\n",
    "    cdef int m, n, step = 0\n",
    "    cdef double residual_magnitude\n",
    "    \n",
    "    m = A.shape[0]\n",
    "    n = A.shape[1]\n",
    "    step = 0\n",
    "    residual_magnitude = np.linalg.norm(b - np.dot(A, x_0))\n",
    "    \n",
    "    cdef c_np.ndarray[double, ndim=1] x\n",
    "    cdef double temp\n",
    "\n",
    "    x = np.copy(x_0)\n",
    "\n",
    "    while residual_magnitude > tol and step < maxSteps:\n",
    "        for i in range(n):\n",
    "            temp = b[i] - np.dot(A[i, :], x) + A[i, i] * x[i]\n",
    "            x[i] *= (1 - w)\n",
    "            x[i] += w * (temp/A[i, i])\n",
    "        residual_magnitude = np.linalg.norm(b - np.dot(A, x))\n",
    "        step += 1\n",
    "    \n",
    "    return x\n"
   ]
  },
  {
   "cell_type": "code",
   "execution_count": 35,
   "metadata": {
    "collapsed": false
   },
   "outputs": [
    {
     "name": "stdout",
     "output_type": "stream",
     "text": [
      "10 loops, best of 3: 29.5 ms per loop\n"
     ]
    }
   ],
   "source": [
    "%timeit x_jacobi=jacobi_c(A, b, x_0, tol=1e-12, maxSteps=300)"
   ]
  },
  {
   "cell_type": "code",
   "execution_count": 36,
   "metadata": {
    "collapsed": false
   },
   "outputs": [
    {
     "name": "stdout",
     "output_type": "stream",
     "text": [
      "10 loops, best of 3: 75.3 ms per loop\n"
     ]
    }
   ],
   "source": [
    "%timeit x_gs = gaussSeidel_c(A, b, x_0, tol=1e-12, maxSteps=300)"
   ]
  },
  {
   "cell_type": "code",
   "execution_count": 37,
   "metadata": {
    "collapsed": false
   },
   "outputs": [
    {
     "name": "stdout",
     "output_type": "stream",
     "text": [
      "10 loops, best of 3: 75.8 ms per loop\n"
     ]
    }
   ],
   "source": [
    "%timeit x_sor = sor_c(A, b, x_0, w=1.9375, tol=1e-12, maxSteps=300)"
   ]
  },
  {
   "cell_type": "markdown",
   "metadata": {},
   "source": [
    "## 4. More examples\n",
    "https://github.com/barbagroup/numba_tutorial_scipy2016/tree/master/notebooks"
   ]
  },
  {
   "cell_type": "markdown",
   "metadata": {},
   "source": [
    "## 5. Q&A"
   ]
  },
  {
   "cell_type": "code",
   "execution_count": null,
   "metadata": {
    "collapsed": true
   },
   "outputs": [],
   "source": []
  }
 ],
 "metadata": {
  "kernelspec": {
   "display_name": "Python 2",
   "language": "python",
   "name": "python2"
  },
  "language_info": {
   "codemirror_mode": {
    "name": "ipython",
    "version": 2
   },
   "file_extension": ".py",
   "mimetype": "text/x-python",
   "name": "python",
   "nbconvert_exporter": "python",
   "pygments_lexer": "ipython2",
   "version": "2.7.12"
  }
 },
 "nbformat": 4,
 "nbformat_minor": 0
}
